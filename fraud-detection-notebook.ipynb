{
 "cells": [
  {
   "cell_type": "markdown",
   "id": "feb14990",
   "metadata": {
    "papermill": {
     "duration": 0.007659,
     "end_time": "2023-04-18T21:55:54.629017",
     "exception": false,
     "start_time": "2023-04-18T21:55:54.621358",
     "status": "completed"
    },
    "tags": []
   },
   "source": [
    "## Abstract\n",
    "\n",
    "Here i'm trying to classify a variable in a fraud detection data. I had some problems with the logistic regression and maybe is because the data has more no fraudulent data then the opposite. In the exploratory i see that fraudulent transactions has more ammount then the normal transaction. And in the final result i liked it, if you think that something can be improved please comment, it's a plearuse.\n"
   ]
  },
  {
   "cell_type": "markdown",
   "id": "c6b20118",
   "metadata": {
    "papermill": {
     "duration": 0.005945,
     "end_time": "2023-04-18T21:55:54.641404",
     "exception": false,
     "start_time": "2023-04-18T21:55:54.635459",
     "status": "completed"
    },
    "tags": []
   },
   "source": [
    "## Setup"
   ]
  },
  {
   "cell_type": "code",
   "execution_count": 1,
   "id": "06368439",
   "metadata": {
    "_cell_guid": "b1076dfc-b9ad-4769-8c92-a6c4dae69d19",
    "_uuid": "8f2839f25d086af736a60e9eeb907d3b93b6e0e5",
    "execution": {
     "iopub.execute_input": "2023-04-18T21:55:54.656829Z",
     "iopub.status.busy": "2023-04-18T21:55:54.655518Z",
     "iopub.status.idle": "2023-04-18T21:55:56.583888Z",
     "shell.execute_reply": "2023-04-18T21:55:56.582573Z"
    },
    "papermill": {
     "duration": 1.939338,
     "end_time": "2023-04-18T21:55:56.587016",
     "exception": false,
     "start_time": "2023-04-18T21:55:54.647678",
     "status": "completed"
    },
    "tags": []
   },
   "outputs": [],
   "source": [
    "import numpy as np # linear algebra\n",
    "import pandas as pd # data processing, CSV file I/O (e.g. pd.read_csv)\n",
    "import seaborn as srn\n",
    "import statistics  as sts\n",
    "import seaborn as sns\n",
    "import matplotlib.pyplot as plt\n",
    "import scipy.cluster.hierarchy as shc\n",
    "from sklearn.cluster import AgglomerativeClustering\n",
    "from sklearn.linear_model import LogisticRegression\n",
    "from sklearn.ensemble import RandomForestClassifier\n",
    "import xgboost as xgb\n",
    "from sklearn.model_selection import train_test_split\n",
    "from sklearn.preprocessing import LabelEncoder\n",
    "from sklearn.metrics import mean_absolute_error\n",
    "from sklearn.pipeline import Pipeline\n",
    "from sklearn.metrics import confusion_matrix, accuracy_score, plot_confusion_matrix\n",
    "from sklearn.ensemble import RandomForestClassifier"
   ]
  },
  {
   "cell_type": "markdown",
   "id": "92752b74",
   "metadata": {
    "papermill": {
     "duration": 0.006475,
     "end_time": "2023-04-18T21:55:56.599883",
     "exception": false,
     "start_time": "2023-04-18T21:55:56.593408",
     "status": "completed"
    },
    "tags": []
   },
   "source": [
    "## Reading and preparing data"
   ]
  },
  {
   "cell_type": "code",
   "execution_count": 2,
   "id": "900da50e",
   "metadata": {
    "execution": {
     "iopub.execute_input": "2023-04-18T21:55:56.614527Z",
     "iopub.status.busy": "2023-04-18T21:55:56.614112Z",
     "iopub.status.idle": "2023-04-18T21:56:01.310185Z",
     "shell.execute_reply": "2023-04-18T21:56:01.308965Z"
    },
    "papermill": {
     "duration": 4.707252,
     "end_time": "2023-04-18T21:56:01.313435",
     "exception": false,
     "start_time": "2023-04-18T21:55:56.606183",
     "status": "completed"
    },
    "tags": []
   },
   "outputs": [
    {
     "data": {
      "text/html": [
       "<div>\n",
       "<style scoped>\n",
       "    .dataframe tbody tr th:only-of-type {\n",
       "        vertical-align: middle;\n",
       "    }\n",
       "\n",
       "    .dataframe tbody tr th {\n",
       "        vertical-align: top;\n",
       "    }\n",
       "\n",
       "    .dataframe thead th {\n",
       "        text-align: right;\n",
       "    }\n",
       "</style>\n",
       "<table border=\"1\" class=\"dataframe\">\n",
       "  <thead>\n",
       "    <tr style=\"text-align: right;\">\n",
       "      <th></th>\n",
       "      <th>Unnamed: 0</th>\n",
       "      <th>TRANSACTION_ID</th>\n",
       "      <th>TX_DATETIME</th>\n",
       "      <th>CUSTOMER_ID</th>\n",
       "      <th>TERMINAL_ID</th>\n",
       "      <th>TX_AMOUNT</th>\n",
       "      <th>TX_TIME_SECONDS</th>\n",
       "      <th>TX_TIME_DAYS</th>\n",
       "      <th>TX_FRAUD</th>\n",
       "      <th>TX_FRAUD_SCENARIO</th>\n",
       "    </tr>\n",
       "  </thead>\n",
       "  <tbody>\n",
       "    <tr>\n",
       "      <th>0</th>\n",
       "      <td>0</td>\n",
       "      <td>0</td>\n",
       "      <td>2023-01-01 00:00:31</td>\n",
       "      <td>596</td>\n",
       "      <td>3156</td>\n",
       "      <td>533.07</td>\n",
       "      <td>31</td>\n",
       "      <td>0</td>\n",
       "      <td>0</td>\n",
       "      <td>0</td>\n",
       "    </tr>\n",
       "    <tr>\n",
       "      <th>1</th>\n",
       "      <td>1</td>\n",
       "      <td>1</td>\n",
       "      <td>2023-01-01 00:02:10</td>\n",
       "      <td>4961</td>\n",
       "      <td>3412</td>\n",
       "      <td>808.56</td>\n",
       "      <td>130</td>\n",
       "      <td>0</td>\n",
       "      <td>0</td>\n",
       "      <td>0</td>\n",
       "    </tr>\n",
       "    <tr>\n",
       "      <th>2</th>\n",
       "      <td>2</td>\n",
       "      <td>2</td>\n",
       "      <td>2023-01-01 00:07:56</td>\n",
       "      <td>2</td>\n",
       "      <td>1365</td>\n",
       "      <td>1442.94</td>\n",
       "      <td>476</td>\n",
       "      <td>0</td>\n",
       "      <td>1</td>\n",
       "      <td>1</td>\n",
       "    </tr>\n",
       "    <tr>\n",
       "      <th>3</th>\n",
       "      <td>3</td>\n",
       "      <td>3</td>\n",
       "      <td>2023-01-01 00:09:29</td>\n",
       "      <td>4128</td>\n",
       "      <td>8737</td>\n",
       "      <td>620.65</td>\n",
       "      <td>569</td>\n",
       "      <td>0</td>\n",
       "      <td>0</td>\n",
       "      <td>0</td>\n",
       "    </tr>\n",
       "    <tr>\n",
       "      <th>4</th>\n",
       "      <td>4</td>\n",
       "      <td>4</td>\n",
       "      <td>2023-01-01 00:10:34</td>\n",
       "      <td>927</td>\n",
       "      <td>9906</td>\n",
       "      <td>490.66</td>\n",
       "      <td>634</td>\n",
       "      <td>0</td>\n",
       "      <td>0</td>\n",
       "      <td>0</td>\n",
       "    </tr>\n",
       "  </tbody>\n",
       "</table>\n",
       "</div>"
      ],
      "text/plain": [
       "   Unnamed: 0  TRANSACTION_ID          TX_DATETIME  CUSTOMER_ID  TERMINAL_ID  \\\n",
       "0           0               0  2023-01-01 00:00:31          596         3156   \n",
       "1           1               1  2023-01-01 00:02:10         4961         3412   \n",
       "2           2               2  2023-01-01 00:07:56            2         1365   \n",
       "3           3               3  2023-01-01 00:09:29         4128         8737   \n",
       "4           4               4  2023-01-01 00:10:34          927         9906   \n",
       "\n",
       "   TX_AMOUNT  TX_TIME_SECONDS  TX_TIME_DAYS  TX_FRAUD  TX_FRAUD_SCENARIO  \n",
       "0     533.07               31             0         0                  0  \n",
       "1     808.56              130             0         0                  0  \n",
       "2    1442.94              476             0         1                  1  \n",
       "3     620.65              569             0         0                  0  \n",
       "4     490.66              634             0         0                  0  "
      ]
     },
     "execution_count": 2,
     "metadata": {},
     "output_type": "execute_result"
    }
   ],
   "source": [
    "data = pd.read_csv('/kaggle/input/fraud-transaction-detection/Final Transactions.csv')\n",
    "data.head()"
   ]
  },
  {
   "cell_type": "code",
   "execution_count": 3,
   "id": "b9d7a139",
   "metadata": {
    "execution": {
     "iopub.execute_input": "2023-04-18T21:56:01.329686Z",
     "iopub.status.busy": "2023-04-18T21:56:01.328419Z",
     "iopub.status.idle": "2023-04-18T21:56:01.335815Z",
     "shell.execute_reply": "2023-04-18T21:56:01.334663Z"
    },
    "papermill": {
     "duration": 0.017969,
     "end_time": "2023-04-18T21:56:01.338273",
     "exception": false,
     "start_time": "2023-04-18T21:56:01.320304",
     "status": "completed"
    },
    "tags": []
   },
   "outputs": [
    {
     "data": {
      "text/plain": [
       "Index(['Unnamed: 0', 'TRANSACTION_ID', 'TX_DATETIME', 'CUSTOMER_ID',\n",
       "       'TERMINAL_ID', 'TX_AMOUNT', 'TX_TIME_SECONDS', 'TX_TIME_DAYS',\n",
       "       'TX_FRAUD', 'TX_FRAUD_SCENARIO'],\n",
       "      dtype='object')"
      ]
     },
     "execution_count": 3,
     "metadata": {},
     "output_type": "execute_result"
    }
   ],
   "source": [
    "data.columns"
   ]
  },
  {
   "cell_type": "code",
   "execution_count": 4,
   "id": "24cd0fa9",
   "metadata": {
    "execution": {
     "iopub.execute_input": "2023-04-18T21:56:01.354053Z",
     "iopub.status.busy": "2023-04-18T21:56:01.352925Z",
     "iopub.status.idle": "2023-04-18T21:56:01.372770Z",
     "shell.execute_reply": "2023-04-18T21:56:01.371805Z"
    },
    "papermill": {
     "duration": 0.030422,
     "end_time": "2023-04-18T21:56:01.375361",
     "exception": false,
     "start_time": "2023-04-18T21:56:01.344939",
     "status": "completed"
    },
    "tags": []
   },
   "outputs": [],
   "source": [
    "n = len(data)\n",
    "m = np.random.randint(1,n,6000)\n",
    "sample = data.iloc[m,]"
   ]
  },
  {
   "cell_type": "code",
   "execution_count": 5,
   "id": "5bfab5ad",
   "metadata": {
    "execution": {
     "iopub.execute_input": "2023-04-18T21:56:01.391592Z",
     "iopub.status.busy": "2023-04-18T21:56:01.391149Z",
     "iopub.status.idle": "2023-04-18T21:56:01.408454Z",
     "shell.execute_reply": "2023-04-18T21:56:01.407148Z"
    },
    "papermill": {
     "duration": 0.028105,
     "end_time": "2023-04-18T21:56:01.411053",
     "exception": false,
     "start_time": "2023-04-18T21:56:01.382948",
     "status": "completed"
    },
    "tags": []
   },
   "outputs": [
    {
     "data": {
      "text/html": [
       "<div>\n",
       "<style scoped>\n",
       "    .dataframe tbody tr th:only-of-type {\n",
       "        vertical-align: middle;\n",
       "    }\n",
       "\n",
       "    .dataframe tbody tr th {\n",
       "        vertical-align: top;\n",
       "    }\n",
       "\n",
       "    .dataframe thead th {\n",
       "        text-align: right;\n",
       "    }\n",
       "</style>\n",
       "<table border=\"1\" class=\"dataframe\">\n",
       "  <thead>\n",
       "    <tr style=\"text-align: right;\">\n",
       "      <th></th>\n",
       "      <th>TRANSACTION_ID</th>\n",
       "      <th>TX_DATETIME</th>\n",
       "      <th>CUSTOMER_ID</th>\n",
       "      <th>TERMINAL_ID</th>\n",
       "      <th>TX_AMOUNT</th>\n",
       "      <th>TX_TIME_SECONDS</th>\n",
       "      <th>TX_TIME_DAYS</th>\n",
       "      <th>TX_FRAUD</th>\n",
       "      <th>TX_FRAUD_SCENARIO</th>\n",
       "    </tr>\n",
       "  </thead>\n",
       "  <tbody>\n",
       "    <tr>\n",
       "      <th>1365314</th>\n",
       "      <td>1365314</td>\n",
       "      <td>2023-05-23 10:52:11</td>\n",
       "      <td>2959</td>\n",
       "      <td>1964</td>\n",
       "      <td>1126.26</td>\n",
       "      <td>12307931</td>\n",
       "      <td>142</td>\n",
       "      <td>1</td>\n",
       "      <td>1</td>\n",
       "    </tr>\n",
       "    <tr>\n",
       "      <th>1206501</th>\n",
       "      <td>1206501</td>\n",
       "      <td>2023-05-06 17:14:10</td>\n",
       "      <td>1239</td>\n",
       "      <td>2456</td>\n",
       "      <td>761.49</td>\n",
       "      <td>10862050</td>\n",
       "      <td>125</td>\n",
       "      <td>0</td>\n",
       "      <td>0</td>\n",
       "    </tr>\n",
       "    <tr>\n",
       "      <th>374660</th>\n",
       "      <td>374660</td>\n",
       "      <td>2023-02-09 02:54:36</td>\n",
       "      <td>3758</td>\n",
       "      <td>6639</td>\n",
       "      <td>1210.39</td>\n",
       "      <td>3380076</td>\n",
       "      <td>39</td>\n",
       "      <td>1</td>\n",
       "      <td>1</td>\n",
       "    </tr>\n",
       "    <tr>\n",
       "      <th>1752383</th>\n",
       "      <td>1752383</td>\n",
       "      <td>2023-07-02 16:51:09</td>\n",
       "      <td>960</td>\n",
       "      <td>7398</td>\n",
       "      <td>1205.66</td>\n",
       "      <td>15785469</td>\n",
       "      <td>182</td>\n",
       "      <td>1</td>\n",
       "      <td>1</td>\n",
       "    </tr>\n",
       "    <tr>\n",
       "      <th>1014694</th>\n",
       "      <td>1014694</td>\n",
       "      <td>2023-04-16 16:39:43</td>\n",
       "      <td>3262</td>\n",
       "      <td>7511</td>\n",
       "      <td>924.65</td>\n",
       "      <td>9131983</td>\n",
       "      <td>105</td>\n",
       "      <td>0</td>\n",
       "      <td>0</td>\n",
       "    </tr>\n",
       "  </tbody>\n",
       "</table>\n",
       "</div>"
      ],
      "text/plain": [
       "         TRANSACTION_ID          TX_DATETIME  CUSTOMER_ID  TERMINAL_ID  \\\n",
       "1365314         1365314  2023-05-23 10:52:11         2959         1964   \n",
       "1206501         1206501  2023-05-06 17:14:10         1239         2456   \n",
       "374660           374660  2023-02-09 02:54:36         3758         6639   \n",
       "1752383         1752383  2023-07-02 16:51:09          960         7398   \n",
       "1014694         1014694  2023-04-16 16:39:43         3262         7511   \n",
       "\n",
       "         TX_AMOUNT  TX_TIME_SECONDS  TX_TIME_DAYS  TX_FRAUD  TX_FRAUD_SCENARIO  \n",
       "1365314    1126.26         12307931           142         1                  1  \n",
       "1206501     761.49         10862050           125         0                  0  \n",
       "374660     1210.39          3380076            39         1                  1  \n",
       "1752383    1205.66         15785469           182         1                  1  \n",
       "1014694     924.65          9131983           105         0                  0  "
      ]
     },
     "execution_count": 5,
     "metadata": {},
     "output_type": "execute_result"
    }
   ],
   "source": [
    "sample = sample.iloc[:,1:]\n",
    "sample.head()"
   ]
  },
  {
   "cell_type": "code",
   "execution_count": 6,
   "id": "71654a2a",
   "metadata": {
    "execution": {
     "iopub.execute_input": "2023-04-18T21:56:01.427309Z",
     "iopub.status.busy": "2023-04-18T21:56:01.426866Z",
     "iopub.status.idle": "2023-04-18T21:56:01.434319Z",
     "shell.execute_reply": "2023-04-18T21:56:01.433041Z"
    },
    "papermill": {
     "duration": 0.018803,
     "end_time": "2023-04-18T21:56:01.436885",
     "exception": false,
     "start_time": "2023-04-18T21:56:01.418082",
     "status": "completed"
    },
    "tags": []
   },
   "outputs": [
    {
     "data": {
      "text/plain": [
       "Index(['TRANSACTION_ID', 'TX_DATETIME', 'CUSTOMER_ID', 'TERMINAL_ID',\n",
       "       'TX_AMOUNT', 'TX_TIME_SECONDS', 'TX_TIME_DAYS', 'TX_FRAUD',\n",
       "       'TX_FRAUD_SCENARIO'],\n",
       "      dtype='object')"
      ]
     },
     "execution_count": 6,
     "metadata": {},
     "output_type": "execute_result"
    }
   ],
   "source": [
    "sample.columns"
   ]
  },
  {
   "cell_type": "code",
   "execution_count": 7,
   "id": "dd4c4640",
   "metadata": {
    "execution": {
     "iopub.execute_input": "2023-04-18T21:56:01.453435Z",
     "iopub.status.busy": "2023-04-18T21:56:01.453024Z",
     "iopub.status.idle": "2023-04-18T21:56:01.470331Z",
     "shell.execute_reply": "2023-04-18T21:56:01.469183Z"
    },
    "papermill": {
     "duration": 0.02863,
     "end_time": "2023-04-18T21:56:01.472936",
     "exception": false,
     "start_time": "2023-04-18T21:56:01.444306",
     "status": "completed"
    },
    "tags": []
   },
   "outputs": [
    {
     "data": {
      "text/html": [
       "<div>\n",
       "<style scoped>\n",
       "    .dataframe tbody tr th:only-of-type {\n",
       "        vertical-align: middle;\n",
       "    }\n",
       "\n",
       "    .dataframe tbody tr th {\n",
       "        vertical-align: top;\n",
       "    }\n",
       "\n",
       "    .dataframe thead th {\n",
       "        text-align: right;\n",
       "    }\n",
       "</style>\n",
       "<table border=\"1\" class=\"dataframe\">\n",
       "  <thead>\n",
       "    <tr style=\"text-align: right;\">\n",
       "      <th></th>\n",
       "      <th>TX_AMOUNT</th>\n",
       "      <th>TX_TIME_SECONDS</th>\n",
       "      <th>TX_TIME_DAYS</th>\n",
       "      <th>TX_FRAUD</th>\n",
       "      <th>TX_FRAUD_SCENARIO</th>\n",
       "    </tr>\n",
       "  </thead>\n",
       "  <tbody>\n",
       "    <tr>\n",
       "      <th>1365314</th>\n",
       "      <td>1126.26</td>\n",
       "      <td>12307931</td>\n",
       "      <td>142</td>\n",
       "      <td>1</td>\n",
       "      <td>1</td>\n",
       "    </tr>\n",
       "    <tr>\n",
       "      <th>1206501</th>\n",
       "      <td>761.49</td>\n",
       "      <td>10862050</td>\n",
       "      <td>125</td>\n",
       "      <td>0</td>\n",
       "      <td>0</td>\n",
       "    </tr>\n",
       "    <tr>\n",
       "      <th>374660</th>\n",
       "      <td>1210.39</td>\n",
       "      <td>3380076</td>\n",
       "      <td>39</td>\n",
       "      <td>1</td>\n",
       "      <td>1</td>\n",
       "    </tr>\n",
       "    <tr>\n",
       "      <th>1752383</th>\n",
       "      <td>1205.66</td>\n",
       "      <td>15785469</td>\n",
       "      <td>182</td>\n",
       "      <td>1</td>\n",
       "      <td>1</td>\n",
       "    </tr>\n",
       "    <tr>\n",
       "      <th>1014694</th>\n",
       "      <td>924.65</td>\n",
       "      <td>9131983</td>\n",
       "      <td>105</td>\n",
       "      <td>0</td>\n",
       "      <td>0</td>\n",
       "    </tr>\n",
       "  </tbody>\n",
       "</table>\n",
       "</div>"
      ],
      "text/plain": [
       "         TX_AMOUNT  TX_TIME_SECONDS  TX_TIME_DAYS  TX_FRAUD  TX_FRAUD_SCENARIO\n",
       "1365314    1126.26         12307931           142         1                  1\n",
       "1206501     761.49         10862050           125         0                  0\n",
       "374660     1210.39          3380076            39         1                  1\n",
       "1752383    1205.66         15785469           182         1                  1\n",
       "1014694     924.65          9131983           105         0                  0"
      ]
     },
     "execution_count": 7,
     "metadata": {},
     "output_type": "execute_result"
    }
   ],
   "source": [
    "sample = sample.drop(columns = ['TRANSACTION_ID', 'TX_DATETIME', 'CUSTOMER_ID', 'TERMINAL_ID'])\n",
    "sample.head()"
   ]
  },
  {
   "cell_type": "markdown",
   "id": "bb5afdf1",
   "metadata": {
    "papermill": {
     "duration": 0.006727,
     "end_time": "2023-04-18T21:56:01.488059",
     "exception": false,
     "start_time": "2023-04-18T21:56:01.481332",
     "status": "completed"
    },
    "tags": []
   },
   "source": [
    "## Exploratory"
   ]
  },
  {
   "cell_type": "code",
   "execution_count": 8,
   "id": "5b2166b9",
   "metadata": {
    "execution": {
     "iopub.execute_input": "2023-04-18T21:56:01.503880Z",
     "iopub.status.busy": "2023-04-18T21:56:01.503339Z",
     "iopub.status.idle": "2023-04-18T21:56:01.720864Z",
     "shell.execute_reply": "2023-04-18T21:56:01.719603Z"
    },
    "papermill": {
     "duration": 0.2283,
     "end_time": "2023-04-18T21:56:01.723353",
     "exception": false,
     "start_time": "2023-04-18T21:56:01.495053",
     "status": "completed"
    },
    "tags": []
   },
   "outputs": [
    {
     "data": {
      "image/png": "[encoded data removed]",
      "text/plain": [
       "<Figure size 432x288 with 1 Axes>"
      ]
     },
     "metadata": {
      "needs_background": "light"
     },
     "output_type": "display_data"
    }
   ],
   "source": [
    "plt.boxplot(sample.TX_AMOUNT)\n",
    "plt.show() "
   ]
  },
  {
   "cell_type": "code",
   "execution_count": 9,
   "id": "584e5d05",
   "metadata": {
    "execution": {
     "iopub.execute_input": "2023-04-18T21:56:01.740179Z",
     "iopub.status.busy": "2023-04-18T21:56:01.739594Z",
     "iopub.status.idle": "2023-04-18T21:56:01.922928Z",
     "shell.execute_reply": "2023-04-18T21:56:01.921701Z"
    },
    "papermill": {
     "duration": 0.194494,
     "end_time": "2023-04-18T21:56:01.925436",
     "exception": false,
     "start_time": "2023-04-18T21:56:01.730942",
     "status": "completed"
    },
    "tags": []
   },
   "outputs": [
    {
     "data": {
      "image/png": "[encoded data removed]",
      "text/plain": [
       "<Figure size 432x288 with 1 Axes>"
      ]
     },
     "metadata": {
      "needs_background": "light"
     },
     "output_type": "display_data"
    }
   ],
   "source": [
    "plt.boxplot(sample.TX_TIME_SECONDS)\n",
    "plt.show() "
   ]
  },
  {
   "cell_type": "code",
   "execution_count": 10,
   "id": "8a561e01",
   "metadata": {
    "execution": {
     "iopub.execute_input": "2023-04-18T21:56:01.943319Z",
     "iopub.status.busy": "2023-04-18T21:56:01.942221Z",
     "iopub.status.idle": "2023-04-18T21:56:02.123257Z",
     "shell.execute_reply": "2023-04-18T21:56:02.122027Z"
    },
    "papermill": {
     "duration": 0.193204,
     "end_time": "2023-04-18T21:56:02.126315",
     "exception": false,
     "start_time": "2023-04-18T21:56:01.933111",
     "status": "completed"
    },
    "tags": []
   },
   "outputs": [
    {
     "data": {
      "image/png": "[encoded data removed]",
      "text/plain": [
       "<Figure size 432x288 with 1 Axes>"
      ]
     },
     "metadata": {
      "needs_background": "light"
     },
     "output_type": "display_data"
    }
   ],
   "source": [
    "plt.boxplot(sample.TX_TIME_DAYS)\n",
    "plt.show() "
   ]
  },
  {
   "cell_type": "code",
   "execution_count": 11,
   "id": "6b36d474",
   "metadata": {
    "execution": {
     "iopub.execute_input": "2023-04-18T21:56:02.145529Z",
     "iopub.status.busy": "2023-04-18T21:56:02.145080Z",
     "iopub.status.idle": "2023-04-18T21:56:02.587876Z",
     "shell.execute_reply": "2023-04-18T21:56:02.585187Z"
    },
    "papermill": {
     "duration": 0.455526,
     "end_time": "2023-04-18T21:56:02.590478",
     "exception": false,
     "start_time": "2023-04-18T21:56:02.134952",
     "status": "completed"
    },
    "tags": []
   },
   "outputs": [
    {
     "data": {
      "text/plain": [
       "<AxesSubplot:xlabel='TX_AMOUNT', ylabel='TX_TIME_DAYS'>"
      ]
     },
     "execution_count": 11,
     "metadata": {},
     "output_type": "execute_result"
    },
    {
     "data": {
      "image/png": "[encoded data removed]",
      "text/plain": [
       "<Figure size 432x288 with 1 Axes>"
      ]
     },
     "metadata": {
      "needs_background": "light"
     },
     "output_type": "display_data"
    }
   ],
   "source": [
    "sns.scatterplot(x=\"TX_AMOUNT\",y=\"TX_TIME_DAYS\",hue=\"TX_FRAUD\",data=sample)"
   ]
  },
  {
   "cell_type": "code",
   "execution_count": 12,
   "id": "b557c83c",
   "metadata": {
    "execution": {
     "iopub.execute_input": "2023-04-18T21:56:02.609536Z",
     "iopub.status.busy": "2023-04-18T21:56:02.609097Z",
     "iopub.status.idle": "2023-04-18T21:56:03.045415Z",
     "shell.execute_reply": "2023-04-18T21:56:03.044119Z"
    },
    "papermill": {
     "duration": 0.449113,
     "end_time": "2023-04-18T21:56:03.048233",
     "exception": false,
     "start_time": "2023-04-18T21:56:02.599120",
     "status": "completed"
    },
    "tags": []
   },
   "outputs": [
    {
     "data": {
      "text/plain": [
       "<AxesSubplot:xlabel='TX_AMOUNT', ylabel='TX_TIME_SECONDS'>"
      ]
     },
     "execution_count": 12,
     "metadata": {},
     "output_type": "execute_result"
    },
    {
     "data": {
      "image/png": "[encoded data removed]",
      "text/plain": [
       "<Figure size 432x288 with 1 Axes>"
      ]
     },
     "metadata": {
      "needs_background": "light"
     },
     "output_type": "display_data"
    }
   ],
   "source": [
    "sns.scatterplot(x=\"TX_AMOUNT\",y=\"TX_TIME_SECONDS\",hue=\"TX_FRAUD\",data=sample)"
   ]
  },
  {
   "cell_type": "markdown",
   "id": "78a32b12",
   "metadata": {
    "papermill": {
     "duration": 0.009977,
     "end_time": "2023-04-18T21:56:03.067890",
     "exception": false,
     "start_time": "2023-04-18T21:56:03.057913",
     "status": "completed"
    },
    "tags": []
   },
   "source": [
    "## Modeling"
   ]
  },
  {
   "cell_type": "code",
   "execution_count": 13,
   "id": "a28ace0b",
   "metadata": {
    "execution": {
     "iopub.execute_input": "2023-04-18T21:56:03.088154Z",
     "iopub.status.busy": "2023-04-18T21:56:03.087734Z",
     "iopub.status.idle": "2023-04-18T21:56:03.097448Z",
     "shell.execute_reply": "2023-04-18T21:56:03.096269Z"
    },
    "papermill": {
     "duration": 0.023038,
     "end_time": "2023-04-18T21:56:03.099961",
     "exception": false,
     "start_time": "2023-04-18T21:56:03.076923",
     "status": "completed"
    },
    "tags": []
   },
   "outputs": [],
   "source": [
    "y = sample.TX_FRAUD\n",
    "x = sample.drop(columns = ['TX_FRAUD', 'TX_FRAUD_SCENARIO'])\n",
    "\n",
    "x_train, x_test, y_train, y_test = train_test_split(x ,y,test_size = 0.3,random_state = 0)"
   ]
  },
  {
   "cell_type": "markdown",
   "id": "f953c148",
   "metadata": {
    "papermill": {
     "duration": 0.009052,
     "end_time": "2023-04-18T21:56:03.118363",
     "exception": false,
     "start_time": "2023-04-18T21:56:03.109311",
     "status": "completed"
    },
    "tags": []
   },
   "source": [
    "### Logistic Regression (ACC: 80%) "
   ]
  },
  {
   "cell_type": "code",
   "execution_count": 14,
   "id": "09bb77e4",
   "metadata": {
    "execution": {
     "iopub.execute_input": "2023-04-18T21:56:03.137826Z",
     "iopub.status.busy": "2023-04-18T21:56:03.137342Z",
     "iopub.status.idle": "2023-04-18T21:56:03.219757Z",
     "shell.execute_reply": "2023-04-18T21:56:03.217889Z"
    },
    "papermill": {
     "duration": 0.09511,
     "end_time": "2023-04-18T21:56:03.222322",
     "exception": false,
     "start_time": "2023-04-18T21:56:03.127212",
     "status": "completed"
    },
    "tags": []
   },
   "outputs": [
    {
     "name": "stdout",
     "output_type": "stream",
     "text": [
      "Accuracy Score: 80 %\n"
     ]
    }
   ],
   "source": [
    "model_log = LogisticRegression(multi_class='multinomial', solver='lbfgs', max_iter=400 )\n",
    "model_log.fit(x_train, y_train)\n",
    "\n",
    "y_pred = model_log.predict(x_test)\n",
    "mean_absolute_error(y_test, y_pred)\n",
    "confusion = confusion_matrix(y_test, y_pred)\n",
    "acc = accuracy_score(y_test, y_pred)\n",
    "print('Accuracy Score:',int(acc*100),'%')"
   ]
  },
  {
   "cell_type": "code",
   "execution_count": 15,
   "id": "89205c37",
   "metadata": {
    "execution": {
     "iopub.execute_input": "2023-04-18T21:56:03.242541Z",
     "iopub.status.busy": "2023-04-18T21:56:03.242121Z",
     "iopub.status.idle": "2023-04-18T21:56:03.494015Z",
     "shell.execute_reply": "2023-04-18T21:56:03.492979Z"
    },
    "papermill": {
     "duration": 0.265106,
     "end_time": "2023-04-18T21:56:03.496672",
     "exception": false,
     "start_time": "2023-04-18T21:56:03.231566",
     "status": "completed"
    },
    "tags": []
   },
   "outputs": [
    {
     "data": {
      "image/png": "[encoded data removed]",
      "text/plain": [
       "<Figure size 432x288 with 2 Axes>"
      ]
     },
     "metadata": {
      "needs_background": "light"
     },
     "output_type": "display_data"
    }
   ],
   "source": [
    "ax= plt.subplot()\n",
    "sns.heatmap(confusion, annot=True, fmt='g', cmap = 'Greens', ax=ax); \n",
    "\n",
    "ax.set_xlabel('Predicted labels');ax.set_ylabel('True labels'); \n",
    "ax.set_title('Confusion Matrix'); \n",
    "#ax.xaxis.set_ticklabels(['Boot', 'Sandal', 'Shoe']); ax.yaxis.set_ticklabels(['Boot', 'Sandal', 'Shoe']);"
   ]
  },
  {
   "cell_type": "markdown",
   "id": "176b2097",
   "metadata": {
    "papermill": {
     "duration": 0.009063,
     "end_time": "2023-04-18T21:56:03.515496",
     "exception": false,
     "start_time": "2023-04-18T21:56:03.506433",
     "status": "completed"
    },
    "tags": []
   },
   "source": [
    "### Random Forest (ACC: 99%)"
   ]
  },
  {
   "cell_type": "code",
   "execution_count": 16,
   "id": "7e56ceaa",
   "metadata": {
    "execution": {
     "iopub.execute_input": "2023-04-18T21:56:03.536876Z",
     "iopub.status.busy": "2023-04-18T21:56:03.536108Z",
     "iopub.status.idle": "2023-04-18T21:56:05.422896Z",
     "shell.execute_reply": "2023-04-18T21:56:05.421516Z"
    },
    "papermill": {
     "duration": 1.900732,
     "end_time": "2023-04-18T21:56:05.425527",
     "exception": false,
     "start_time": "2023-04-18T21:56:03.524795",
     "status": "completed"
    },
    "tags": []
   },
   "outputs": [
    {
     "name": "stdout",
     "output_type": "stream",
     "text": [
      "Accuracy Score: 99 %\n"
     ]
    }
   ],
   "source": [
    "model_rf = RandomForestClassifier(n_estimators = 400)\n",
    "model_rf.fit(x_train , y_train)\n",
    "\n",
    "pred = model_rf.predict(x_test)\n",
    "confusion = confusion_matrix(y_test, pred)\n",
    "acc = accuracy_score(y_test, pred)\n",
    "print('Accuracy Score:',int(acc*100),'%')"
   ]
  },
  {
   "cell_type": "code",
   "execution_count": 17,
   "id": "d5553fd3",
   "metadata": {
    "execution": {
     "iopub.execute_input": "2023-04-18T21:56:05.446962Z",
     "iopub.status.busy": "2023-04-18T21:56:05.445851Z",
     "iopub.status.idle": "2023-04-18T21:56:05.709288Z",
     "shell.execute_reply": "2023-04-18T21:56:05.708100Z"
    },
    "papermill": {
     "duration": 0.27707,
     "end_time": "2023-04-18T21:56:05.712064",
     "exception": false,
     "start_time": "2023-04-18T21:56:05.434994",
     "status": "completed"
    },
    "tags": []
   },
   "outputs": [
    {
     "data": {
      "image/png": "[encoded data removed]",
      "text/plain": [
       "<Figure size 432x288 with 2 Axes>"
      ]
     },
     "metadata": {
      "needs_background": "light"
     },
     "output_type": "display_data"
    }
   ],
   "source": [
    "ax= plt.subplot()\n",
    "sns.heatmap(confusion, annot=True, fmt='g', cmap = 'Greens', ax=ax); \n",
    "\n",
    "ax.set_xlabel('Predicted labels');ax.set_ylabel('True labels'); \n",
    "ax.set_title('Confusion Matrix'); \n",
    "#ax.xaxis.set_ticklabels(['Boot', 'Sandal', 'Shoe']); ax.yaxis.set_ticklabels(['Boot', 'Sandal', 'Shoe']);"
   ]
  },
  {
   "cell_type": "markdown",
   "id": "7b220e16",
   "metadata": {
    "papermill": {
     "duration": 0.00955,
     "end_time": "2023-04-18T21:56:05.732355",
     "exception": false,
     "start_time": "2023-04-18T21:56:05.722805",
     "status": "completed"
    },
    "tags": []
   },
   "source": [
    "### XGBoost (ACC:99%)"
   ]
  },
  {
   "cell_type": "code",
   "execution_count": 18,
   "id": "098b4278",
   "metadata": {
    "execution": {
     "iopub.execute_input": "2023-04-18T21:56:05.754055Z",
     "iopub.status.busy": "2023-04-18T21:56:05.753572Z",
     "iopub.status.idle": "2023-04-18T21:56:06.211525Z",
     "shell.execute_reply": "2023-04-18T21:56:06.210413Z"
    },
    "papermill": {
     "duration": 0.472482,
     "end_time": "2023-04-18T21:56:06.214595",
     "exception": false,
     "start_time": "2023-04-18T21:56:05.742113",
     "status": "completed"
    },
    "tags": []
   },
   "outputs": [
    {
     "name": "stdout",
     "output_type": "stream",
     "text": [
      "Accuracy Score: 99 %\n"
     ]
    }
   ],
   "source": [
    "model_xgb = xgb.XGBClassifier()\n",
    "model_xgb.fit(x_train , y_train)\n",
    "\n",
    "pred = model_xgb.predict(x_test)\n",
    "confusion = confusion_matrix(y_test, pred)\n",
    "acc = accuracy_score(y_test, pred)\n",
    "print('Accuracy Score:',int(acc*100),'%')"
   ]
  },
  {
   "cell_type": "code",
   "execution_count": 19,
   "id": "166e28a3",
   "metadata": {
    "execution": {
     "iopub.execute_input": "2023-04-18T21:56:06.237848Z",
     "iopub.status.busy": "2023-04-18T21:56:06.237365Z",
     "iopub.status.idle": "2023-04-18T21:56:06.499446Z",
     "shell.execute_reply": "2023-04-18T21:56:06.498174Z"
    },
    "papermill": {
     "duration": 0.27621,
     "end_time": "2023-04-18T21:56:06.502169",
     "exception": false,
     "start_time": "2023-04-18T21:56:06.225959",
     "status": "completed"
    },
    "tags": []
   },
   "outputs": [
    {
     "data": {
      "image/png": "[encoded data removed]",
      "text/plain": [
       "<Figure size 432x288 with 2 Axes>"
      ]
     },
     "metadata": {
      "needs_background": "light"
     },
     "output_type": "display_data"
    }
   ],
   "source": [
    "ax= plt.subplot()\n",
    "sns.heatmap(confusion, annot=True, fmt='g', cmap = 'Greens', ax=ax); \n",
    "\n",
    "ax.set_xlabel('Predicted labels');ax.set_ylabel('True labels'); \n",
    "ax.set_title('Confusion Matrix'); \n",
    "#ax.xaxis.set_ticklabels(['Boot', 'Sandal', 'Shoe']); ax.yaxis.set_ticklabels(['Boot', 'Sandal', 'Shoe']);"
   ]
  }
 ],
 "metadata": {
  "kernelspec": {
   "display_name": "Python 3",
   "language": "python",
   "name": "python3"
  },
  "language_info": {
   "codemirror_mode": {
    "name": "ipython",
    "version": 3
   },
   "file_extension": ".py",
   "mimetype": "text/x-python",
   "name": "python",
   "nbconvert_exporter": "python",
   "pygments_lexer": "ipython3",
   "version": "3.7.12"
  },
  "papermill": {
   "default_parameters": {},
   "duration": 23.457722,
   "end_time": "2023-04-18T21:56:07.537496",
   "environment_variables": {},
   "exception": null,
   "input_path": "__notebook__.ipynb",
   "output_path": "__notebook__.ipynb",
   "parameters": {},
   "start_time": "2023-04-18T21:55:44.079774",
   "version": "2.3.4"
  }
 },
 "nbformat": 4,
 "nbformat_minor": 5
}
